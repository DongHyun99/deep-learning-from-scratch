{
 "metadata": {
  "language_info": {
   "codemirror_mode": {
    "name": "ipython",
    "version": 3
   },
   "file_extension": ".py",
   "mimetype": "text/x-python",
   "name": "python",
   "nbconvert_exporter": "python",
   "pygments_lexer": "ipython3",
   "version": "3.8.8"
  },
  "orig_nbformat": 4,
  "kernelspec": {
   "name": "python3",
   "display_name": "Python 3.8.8 64-bit ('base': conda)"
  },
  "interpreter": {
   "hash": "ee6caf572b02fbd90c9d9a82b73a7abd542127d236c55761b702f851ee4a295f"
  }
 },
 "nbformat": 4,
 "nbformat_minor": 2,
 "cells": [
  {
   "source": [
    "# 4.2 손실 함수\n",
    "\n",
    "신경망 학습에서는 현재의 상태를 '하나의지표'로 표현  \n",
    "지표를 가장 좋게 만들어 주는 가중치 매개변수의 값을 탐색  \n",
    "신경망 학습에서 사용하는 지표는 **손실 함수(loss function)**라고 한다.\n",
    "\n",
    "### 대표적인 손실함수\n",
    "\n",
    "    - 평균 제곱 오차 (MSE)\n",
    "    - 교차 엔트로피 오차 (CEE)\n",
    "\n",
    "손실함수는 간단히 말하자면 현재의 신경망이 훈련데이터를 얼마나 잘 처리하지 '못'하는지를 나타냄\n",
    "\n",
    "## 4.2.1 평균 제곱 오차\n",
    "\n",
    "![image](./image/e_4_1.png)\n",
    "\n",
    "yk: 신경망의 출력 (신경망이 추정한값)  \n",
    "tk: 정답 레이블    \n",
    "k: 데이터 차원 수  \n",
    "원 핫 인코딩: 한 원소만 1로 하고 나머지는 0으로 나타내는 표기법  "
   ],
   "cell_type": "markdown",
   "metadata": {}
  },
  {
   "cell_type": "code",
   "execution_count": 3,
   "metadata": {},
   "outputs": [
    {
     "output_type": "stream",
     "name": "stdout",
     "text": [
      "0.09750000000000003\n0.5975\n"
     ]
    }
   ],
   "source": [
    "import numpy as np\n",
    "\n",
    "y = [0.1, 0.05, 0.6, 0.0, 0.05, 0.1, 0.0,0.1, 0.0, 0.0]\n",
    "t =[0, 0, 1, 0, 0, 0, 0, 0, 0, 0] # One Hot Encoding\n",
    "\n",
    "def mean_squared_error(y, t):\n",
    "    return 0.5 * np.sum((y-t)**2)\n",
    "\n",
    "print(mean_squared_error(np.array(y), np.array(t)))\n",
    "y = [0.1,0.05, 0.1, 0.0, 0.05, 0.1, 0.0, 0.6, 0.0, 0.0]\n",
    "print(mean_squared_error(np.array(y), np.array(t)))"
   ]
  },
  {
   "source": [
    "위 결과 를 보면 첫번째의 y가 오챠가 더 적은 것을 알 수 있다.\n",
    "\n",
    "## 4.2.2 교차 엔트로피 오차\n",
    "\n",
    "![image](./image/e_4_2.png)\n",
    "\n",
    "공식의 log는 자연로그 log_e이다.  \n",
    "yk: 신경망의 출력 (신경망이 추정한값)  \n",
    "tk: 정답 레이블 (원핫 인코딩의 형식으로 이루어져 있음)"
   ],
   "cell_type": "markdown",
   "metadata": {}
  }
 ]
}