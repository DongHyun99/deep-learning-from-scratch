{
 "metadata": {
  "language_info": {
   "codemirror_mode": {
    "name": "ipython",
    "version": 3
   },
   "file_extension": ".py",
   "mimetype": "text/x-python",
   "name": "python",
   "nbconvert_exporter": "python",
   "pygments_lexer": "ipython3",
   "version": 3
  },
  "orig_nbformat": 4
 },
 "nbformat": 4,
 "nbformat_minor": 2,
 "cells": [
  {
   "source": [
    "# 3.5 출력층 설계하기\n",
    "\n",
    "신경망은 분류와 회귀 모두에서 아용이 가능함  \n",
    "어떤 문제냐에 따라 출력층에서 사용하는 활성화 함수가 달라짐  \n",
    "\n",
    "    - 회귀: 항등함수  \n",
    "    - 분류: 소프트맥스 함수  \n"
   ],
   "cell_type": "markdown",
   "metadata": {}
  }
 ]
}