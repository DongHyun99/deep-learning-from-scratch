{
 "metadata": {
  "language_info": {
   "codemirror_mode": {
    "name": "ipython",
    "version": 3
   },
   "file_extension": ".py",
   "mimetype": "text/x-python",
   "name": "python",
   "nbconvert_exporter": "python",
   "pygments_lexer": "ipython3",
   "version": "3.8.8"
  },
  "orig_nbformat": 4,
  "kernelspec": {
   "name": "python3",
   "display_name": "Python 3.8.8 64-bit ('base': conda)"
  },
  "interpreter": {
   "hash": "ee6caf572b02fbd90c9d9a82b73a7abd542127d236c55761b702f851ee4a295f"
  }
 },
 "nbformat": 4,
 "nbformat_minor": 2,
 "cells": [
  {
   "source": [
    "# 3.5 출력층 설계하기\n",
    "\n",
    "신경망은 분류와 회귀 모두에서 아용이 가능함  \n",
    "어떤 문제냐에 따라 출력층에서 사용하는 활성화 함수가 달라짐  \n",
    "\n",
    "    - 회귀: 항등함수  \n",
    "    - 분류: 소프트맥스 함수  \n",
    "\n",
    "\n",
    "## 3.5.1 항등 함수와 소프트맥스 함수 구현하기\n",
    "\n",
    "    - 항등함수: 입력값과 출력값이 동일\n",
    "\n",
    "분류에서 사용하는 소프트맥스 함수는 다음과 같다.  \n",
    "\n",
    "![image](./image/e_3_10.png)\n",
    "\n",
    "exp(x) = e^x을 의미하는 지수함수 (e는 자연상수)  \n",
    "a는 입력층이고 y는 출력층이다. 분모를 보면 모든 입력층에서 영향을 받는 것을 알 수 있다.  "
   ],
   "cell_type": "markdown",
   "metadata": {}
  },
  {
   "cell_type": "code",
   "execution_count": 1,
   "metadata": {},
   "outputs": [
    {
     "output_type": "stream",
     "name": "stdout",
     "text": [
      "[ 1.34985881 18.17414537 54.59815003]\n74.1221542101633\n[0.01821127 0.24519181 0.73659691]\n"
     ]
    }
   ],
   "source": [
    "# 소프트맥스 함수 구현\n",
    "import numpy as np\n",
    "\n",
    "a = np.array([0.3, 2.9, 4.0])\n",
    "exp_a = np.exp(a) # 지수 함수\n",
    "print(exp_a)\n",
    "\n",
    "sum_exp_a = np.sum(exp_a) #지수 함수의 합\n",
    "print(sum_exp_a)\n",
    "\n",
    "y = exp_a/sum_exp_a\n",
    "print(y)"
   ]
  },
  {
   "cell_type": "code",
   "execution_count": 2,
   "metadata": {},
   "outputs": [],
   "source": [
    "# 앞으로 사용하기 위해 함수로 구현\n",
    "\n",
    "def softmax(a):\n",
    "    exp_a = np.exp(a)\n",
    "    sum_exp_a = np.sum(exp_a)\n",
    "    y = exp_a / sum_exp_a\n",
    "    return y"
   ]
  },
  {
   "source": [
    "## 3.5.2 소프트맥스 함수 구현 시 주의점\n",
    "\n",
    "앞의 소프트 맥스 함수를 구현한 softmax() 함수는 오버플로 문제가 있을 수 있음.  \n",
    "왜냐하면 지수함수가 굉장히 커질 수 있기 때문  \n",
    "이것이 개선 가능한 소프트맥스 함수를 구현해보자  \n",
    "\n",
    "![image](./image/e_3_11.png)  \n",
    "\n",
    "C: 임의의 정수\n",
    "C': C를 exp 함수 안으로 옮기면서 logC가 되고 이것을 C'로 정의  \n",
    "위 식을 보면 소프트 맥싀 지수함수를 계산할 때 어떤 정수를 더해도 결과는 바뀌지 않는다.  \n",
    "따라서 각 값의 최대 값들을 빼주면 오버플로의 발생을 방지가 가능하다."
   ],
   "cell_type": "markdown",
   "metadata": {}
  },
  {
   "cell_type": "code",
   "execution_count": 5,
   "metadata": {},
   "outputs": [
    {
     "output_type": "stream",
     "name": "stdout",
     "text": [
      "[nan nan nan]\n",
      "[  0 -10 -20]\n",
      "[9.99954600e-01 4.53978686e-05 2.06106005e-09]\n",
      "<ipython-input-2-910efc54fec2>:4: RuntimeWarning: overflow encountered in exp\n",
      "  exp_a = np.exp(a)\n",
      "<ipython-input-2-910efc54fec2>:6: RuntimeWarning: invalid value encountered in true_divide\n",
      "  y = exp_a / sum_exp_a\n"
     ]
    }
   ],
   "source": [
    "a = np.array([1010,1000,990])\n",
    "print(softmax(a))\n",
    "\n",
    "c = np.max(a)\n",
    "print(a-c)\n",
    "\n",
    "print(softmax(a-c))"
   ]
  },
  {
   "cell_type": "code",
   "execution_count": 7,
   "metadata": {},
   "outputs": [
    {
     "output_type": "execute_result",
     "data": {
      "text/plain": [
       "array([9.99954600e-01, 4.53978686e-05, 2.06106005e-09])"
      ]
     },
     "metadata": {},
     "execution_count": 7
    }
   ],
   "source": [
    "# 오버플로 방지 구문을 추가한 새로운 softmax 함수\n",
    "\n",
    "def softmax(a):\n",
    "    c = np.max(a)\n",
    "    exp_a = np.exp(a-c)\n",
    "    sum_exp_a = np.sum(exp_a)\n",
    "    y = exp_a / sum_exp_a\n",
    "    return y\n",
    "\n",
    "softmax(np.array([1010, 1000, 990]))"
   ]
  },
  {
   "source": [
    "## 3.5.3 소프트맥스 함수의 특징\n",
    "\n",
    "    1. 소프트맥스 함수의 출력은 0~1.0사이의 실수이다.\n",
    "    2. 소프트맥스 함수의 출력의 총합은 1이다. (즉 확률로의 생각이 가능해짐)\n",
    "    3. 소프트맥스 함수를 적용해서 각 원소의 대소 관계를 변하지 않음 (입력의 크기순 = 출력의 크기순)\n",
    " 3.5.3 소프트맥스 함수의 특징\n",
    "\n",
    "    1. 소프트맥스 함수의 출력은 0~1.0사이의 실수이다.\n",
    "    2. 소프트맥스 함수의 출력의 총합은 1이다. (즉 확률로의 생각이 가능해짐)\n",
    "    3. 소프트맥스 함수를 적용해서 각 원소의 대소 관계를 변하지 않음 (입력의 크기순 = 출력의 크기순)\n",
    "        - 따라서 신경망 분류시에는 소프트맥스 함수를 생략해도 상관 없음\n",
    "    "
   ],
   "cell_type": "markdown",
   "metadata": {}
  },
  {
   "source": [
    "## 3.5.4 출력층의 뉴런 수 정하기\n",
    "\n",
    "풀려는 문제에 따라 적절한 개수 선정\n"
   ],
   "cell_type": "markdown",
   "metadata": {}
  }
 ]
}