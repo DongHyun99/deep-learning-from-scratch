{
 "cells": [
  {
   "cell_type": "markdown",
   "metadata": {},
   "source": [
    "# 5.4 단순한 계층 구현하기  \r\n",
    "\r\n",
    "사과 쇼핑을 파이썬으로 구현해 보자  \r\n",
    "\r\n",
    "    - MulLayer: 곱셈 노드\r\n",
    "    - AddLayer: 덧셈 노드  \r\n",
    "\r\n",
    "## 5.4.1 곱셈 계층  \r\n",
    "\r\n",
    "    - forward(): 순전파  \r\n",
    "    - backward(): 역전파  \r\n",
    "\r\n",
    "곱셈 계층을 구현해 보자  "
   ]
  },
  {
   "cell_type": "code",
   "execution_count": 1,
   "metadata": {},
   "outputs": [],
   "source": [
    "class MulLayer:\r\n",
    "    def __init__(self):\r\n",
    "        self.x = None\r\n",
    "        self.y = None\r\n",
    "        \r\n",
    "    def forward(self, x, y):\r\n",
    "        self.x = x\r\n",
    "        self.y = y\r\n",
    "        out = x * y\r\n",
    "\r\n",
    "        return out\r\n",
    "\r\n",
    "    def backward(self, dout):\r\n",
    "        dx = dout * self.y\r\n",
    "        dy = dout * self.x\r\n",
    "\r\n",
    "        return dx, dy"
   ]
  },
  {
   "cell_type": "markdown",
   "metadata": {},
   "source": [
    "__init__()에서 x, y를 초기화, 두 변수는 순전파 시의 입력 값을 유지  \r\n",
    "forward에서는 x, y를 인수로 받고 두값을 곱해 반환  \r\n",
    "backward()에서는 상류에서 넘어온 미분(dout)에 순전파의 값을 서로 바꿔 곱한 뒤 하류로 흘림 (return)  \r\n",
    "\r\n",
    "이를 이용해서 사과 쇼핑의 순전파를 다음과 같이 구현할 수 있다.  "
   ]
  },
  {
   "cell_type": "code",
   "execution_count": 3,
   "metadata": {},
   "outputs": [],
   "source": [
    "apple = 100\r\n",
    "apple_num = 2\r\n",
    "tax = 1.1\r\n",
    "\r\n",
    "# 계층들\r\n",
    "mul_apple_layer = MulLayer()\r\n",
    "mul_tax_layer = MulLayer()\r\n",
    "\r\n",
    "# 순전파\r\n",
    "apple_price = mul_apple_layer.forward(apple, apple_num)\r\n",
    "price = mul_tax_layer.forward(apple_price, tax)\r\n",
    "\r\n",
    "print(price)"
   ]
  },
  {
   "cell_type": "markdown",
   "metadata": {},
   "source": [
    "각 변수에 대한 미분 값은 backward()로 구할 수 있다.  "
   ]
  },
  {
   "cell_type": "code",
   "execution_count": 4,
   "metadata": {},
   "outputs": [
    {
     "name": "stdout",
     "output_type": "stream",
     "text": [
      "2.2 110.00000000000001 200\n"
     ]
    }
   ],
   "source": [
    "# 역전파\r\n",
    "dprice = 1\r\n",
    "dapple_price, dtax = mul_tax_layer.backward(dprice)\r\n",
    "dapple, dapple_num = mul_apple_layer.backward(dapple_price)\r\n",
    "\r\n",
    "print(dapple, dapple_num, dtax)"
   ]
  },
  {
   "cell_type": "markdown",
   "metadata": {},
   "source": [
    "호출 순서는 순전파와 반대이며 **backward가 받는 인수는 순전파 출력에 대한 미분 (dprice)이다.**  \r\n",
    "\r\n",
    "## 5.4.2 덧셈 계층  \r\n",
    "\r\n",
    "덧셈 계층은 다음과 같이 구현할 수 있다.  "
   ]
  },
  {
   "cell_type": "code",
   "execution_count": 5,
   "metadata": {},
   "outputs": [],
   "source": [
    "class AddLayer:\r\n",
    "    def __init__(self):\r\n",
    "        pass\r\n",
    "\r\n",
    "    def forward(self, x, y):\r\n",
    "        out = x + y\r\n",
    "        return out\r\n",
    "\r\n",
    "    def backward(self, dout):\r\n",
    "        dx = dout * 1\r\n",
    "        dy = dout * 1\r\n",
    "        return dx, dy"
   ]
  },
  {
   "cell_type": "markdown",
   "metadata": {},
   "source": [
    "덧셈 계층은 초기화가 필요 없어 __init__()에서는 아무일도 하지 않는다.  \r\n",
    "\r\n",
    "이를 이용해서 다음을 구현해 보자  \r\n",
    "\r\n",
    "<img src = \"./image/fig_5_17.png\" width = \"40%\">"
   ]
  },
  {
   "cell_type": "code",
   "execution_count": 6,
   "metadata": {},
   "outputs": [
    {
     "name": "stdout",
     "output_type": "stream",
     "text": [
      "price: 715\n",
      "dApple: 2.2\n",
      "dApple_num: 110\n",
      "dOrange: 3.3000000000000003\n",
      "dOrange_num: 165\n",
      "dTax: 650\n"
     ]
    }
   ],
   "source": [
    "# coding: utf-8\r\n",
    "\r\n",
    "apple = 100\r\n",
    "apple_num = 2\r\n",
    "orange = 150\r\n",
    "orange_num = 3\r\n",
    "tax = 1.1\r\n",
    "\r\n",
    "# layer\r\n",
    "mul_apple_layer = MulLayer()\r\n",
    "mul_orange_layer = MulLayer()\r\n",
    "add_apple_orange_layer = AddLayer()\r\n",
    "mul_tax_layer = MulLayer()\r\n",
    "\r\n",
    "# forward\r\n",
    "apple_price = mul_apple_layer.forward(apple, apple_num)  # (1)\r\n",
    "orange_price = mul_orange_layer.forward(orange, orange_num)  # (2)\r\n",
    "all_price = add_apple_orange_layer.forward(apple_price, orange_price)  # (3)\r\n",
    "price = mul_tax_layer.forward(all_price, tax)  # (4)\r\n",
    "\r\n",
    "# backward\r\n",
    "dprice = 1\r\n",
    "dall_price, dtax = mul_tax_layer.backward(dprice)  # (4)\r\n",
    "dapple_price, dorange_price = add_apple_orange_layer.backward(dall_price)  # (3)\r\n",
    "dorange, dorange_num = mul_orange_layer.backward(dorange_price)  # (2)\r\n",
    "dapple, dapple_num = mul_apple_layer.backward(dapple_price)  # (1)\r\n",
    "\r\n",
    "print(\"price:\", int(price))\r\n",
    "print(\"dApple:\", dapple)\r\n",
    "print(\"dApple_num:\", int(dapple_num))\r\n",
    "print(\"dOrange:\", dorange)\r\n",
    "print(\"dOrange_num:\", int(dorange_num))\r\n",
    "print(\"dTax:\", dtax)"
   ]
  }
 ],
 "metadata": {
  "interpreter": {
   "hash": "ee6caf572b02fbd90c9d9a82b73a7abd542127d236c55761b702f851ee4a295f"
  },
  "kernelspec": {
   "display_name": "Python 3.8.8 64-bit ('base': conda)",
   "name": "python3"
  },
  "language_info": {
   "codemirror_mode": {
    "name": "ipython",
    "version": 3
   },
   "file_extension": ".py",
   "mimetype": "text/x-python",
   "name": "python",
   "nbconvert_exporter": "python",
   "pygments_lexer": "ipython3",
   "version": "3.8.8"
  },
  "orig_nbformat": 4
 },
 "nbformat": 4,
 "nbformat_minor": 2
}