{
 "metadata": {
  "language_info": {
   "codemirror_mode": {
    "name": "ipython",
    "version": 3
   },
   "file_extension": ".py",
   "mimetype": "text/x-python",
   "name": "python",
   "nbconvert_exporter": "python",
   "pygments_lexer": "ipython3",
   "version": 3
  },
  "orig_nbformat": 4
 },
 "nbformat": 4,
 "nbformat_minor": 2,
 "cells": [
  {
   "source": [
    "# 5.3 역전파  \n",
    "\n",
    "연산을 예로 들어 역전파의 구조를 설명하는 단원이다.  \n",
    "\n",
    "## 5.3.1 덧샘 노드의 역전파  \n",
    "\n",
    "z = x + y라는 식을 대상으로하는 역전파에서 미분을 다음과 같이 계산이 가능하다.  \n",
    "\n",
    "<img src = \"./image/e_5_5.png\">  \n",
    "\n",
    "계산 그래프를 그려보면 다음과 같다.  \n",
    "\n",
    "<img src = \"./image/fig_5_9.png\" width=\"40%\">  \n",
    "\n",
    "상류에서 전해진 미분에 1을 곱해서 하류로 흘리는 그래프이다.  \n",
    "다른 예시를 살펴보면 10+5=15라는 계산에 대해서 상류에서 1.3이라는 값이 올 때 계산 그래프를 그려보면 다음과 같다.  \n",
    "\n",
    "<img src = \"./image/fig_5_11.png\" width=\"40%\">\n",
    "\n",
    "**덧셈 노드 역전파는 입력 신호를 다음 노드로 출력만 한다.**  \n",
    "\n",
    "## 5.3.2 곱셈 노드의 역전파  \n",
    "\n",
    "z =xy라는 식에 대해서 미분해 보면 다음과 같다.  \n",
    "\n",
    "<img src = \"./image/e_5_6.png\">\n",
    "\n",
    "이에 대한 계산 그래프는 다음과 같이 그릴 수 있다.  \n",
    "\n",
    "<img src = \"./image/fig_5_12.png\" width =\"40%\">  \n",
    "\n",
    "**곱셈 노드 역전파의 경우 상류의 값에 순전파 때의 입력 신호들을 '서로 바꾼 값'을 곱해서 하류로 보낸다.**  \n",
    "예를 들어 x를 곱했으면 역전파에서는 y를, y를 곱했으면 역전파에서는 x를 곱하여 하류로 보낸다.  \n",
    "\n",
    "## 5.3.3 사과 쇼핑의 예  \n",
    "\n",
    "사과의 가격, 사과의 개수, 소비세라는 3가지 변수를 가진 최종금액에 대한 역전파를 그려보자  \n",
    "\n",
    "<img src = \"./image/fig_5_14.png\" width=\"40%\">  \n",
    "\n",
    "위에서 배운 내용을 토대로 하면 역전파 계산의 이해가 쉽다. "
   ],
   "cell_type": "markdown",
   "metadata": {}
  }
 ]
}