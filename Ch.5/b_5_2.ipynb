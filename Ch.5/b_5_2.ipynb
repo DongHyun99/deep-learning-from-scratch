{
 "metadata": {
  "language_info": {
   "codemirror_mode": {
    "name": "ipython",
    "version": 3
   },
   "file_extension": ".py",
   "mimetype": "text/x-python",
   "name": "python",
   "nbconvert_exporter": "python",
   "pygments_lexer": "ipython3",
   "version": 3
  },
  "orig_nbformat": 4
 },
 "nbformat": 4,
 "nbformat_minor": 2,
 "cells": [
  {
   "source": [
    "# 5.2 연쇄법칙  \n",
    "\n",
    "연쇄법칙(chain rule): 역전파로 '국소적 미분'을 전달하는 원리  \n",
    "\n",
    "## 5.2.1 계산 그래프의 역전파  \n",
    "\n",
    "y=f(x)라는 계산의 역전파를 그려보았다.  \n",
    "\n",
    "<img src = \"./image/fig_5_6.png\">  \n",
    "\n",
    "그림과 같이 역전파의 계산 절차는 신호 E에 노드의 국소적 미분을 곱한 후 다음 노드로 전달하는 것이다.  \n",
    "여기서 국소적 미분은 순전파일 때 y = f(X)의 미분 값을 구하는 것이고, 이 미분값을 상류에서 전달된 값에 곱해  \n",
    "앞쪽 노드로 전달 한다.  \n",
    "\n",
    "## 5.2.2 연쇄법칙이란?  \n",
    "\n",
    "합성함수: 여러 함수들로 구성된 함수  \n",
    "\n",
    "ex) <img src = \"./image/e_5_1.png\">  \n",
    "\n",
    "연쇄법칙: 합성함수의 미분에 대한 성질,  \n",
    "**_합성 함수의 비문은 합성함수를 구성하는 각 함수의 미분의 곱으로 나타낼 수 있다._**\n",
    "\n",
    "이를 이용해 예시를 풀여보면 다음과 같이 해결이 가능하다.  "
   ],
   "cell_type": "markdown",
   "metadata": {}
  }
 ]
}