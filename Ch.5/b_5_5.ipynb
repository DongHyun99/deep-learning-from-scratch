{
 "cells": [
  {
   "cell_type": "markdown",
   "metadata": {},
   "source": [
    "# 5.5 활성화 함수 계층 구현하기  \r\n",
    "\r\n",
    "계산 그래프를 신경망에 적용해 보자  \r\n",
    "신경망을 구성하는 계층 각각을 클래스 하나로 구현해보았다.  \r\n",
    "우선 활성화 함수인 ReLU와 Sigmoid 꼐층을 구현해 보자.  \r\n",
    "\r\n",
    "## 5.5.1 ReLU 계층  \r\n",
    "\r\n",
    "ReLU의 수식과 이에대한 미분은 다음과 같다.  \r\n",
    "\r\n",
    "<img src = \"./image/e_5_7.png\">\r\n",
    "<img src = \"./image/e_5_8.png\">  \r\n",
    "\r\n",
    "순전파 때의 입력인 x가 0보다 크면 역전파는 상류의 값을 그대로 하류로 흘린다.  \r\n",
    "반대로 0 이하이면 하류로 신호를 보내지 않는다.  이를 계산 그래프로 나타내면 다음과 같다.  \r\n",
    "\r\n",
    "<img src = \"./image/fig_5_18.png\" width=\"40%\">\r\n",
    "\r\n",
    "ReLU를 구현해보자.  "
   ]
  },
  {
   "cell_type": "code",
   "execution_count": 2,
   "metadata": {},
   "outputs": [],
   "source": [
    "class Relu:\r\n",
    "    def __init__(self):\r\n",
    "        self.mask = None\r\n",
    "    \r\n",
    "    def forward(self, x):\r\n",
    "        self.mask = (x <= 0)\r\n",
    "        out = x.copy()\r\n",
    "        out[self.mask] = 0\r\n",
    "\r\n",
    "        return out\r\n",
    "\r\n",
    "    def backward(self, dout):\r\n",
    "        dout[self.mask] = 0\r\n",
    "        dx = dout\r\n",
    "        \r\n",
    "        return dx"
   ]
  },
  {
   "cell_type": "code",
   "execution_count": 2,
   "metadata": {},
   "outputs": [
    {
     "name": "stdout",
     "output_type": "stream",
     "text": [
      "[[ 1.  -0.5]\n",
      " [-2.   3. ]]\n",
      "[[False  True]\n",
      " [ True False]]\n"
     ]
    }
   ],
   "source": [
    "import numpy as np\r\n",
    "\r\n",
    "x=np.array([[1.0,-0.5], [-2.0, 3.0]])\r\n",
    "print(x)\r\n",
    "\r\n",
    "mask = (x<=0)\r\n",
    "print(mask)"
   ]
  },
  {
   "cell_type": "markdown",
   "metadata": {},
   "source": [
    "순전파 때의 입력이 0이하이면 역전파 때의 값 = 0  \r\n",
    "ReLU 계층은 전기 회로의 스위치와 비슷한 역할을 한다.  \r\n",
    "\r\n",
    "## 5.5.2 Sigmoid 계층  \r\n",
    "\r\n",
    "시그모이드 함수의 수식은 다음과 같다.  \r\n",
    "\r\n",
    "<img src=\"./image/e_5_9.png\">  \r\n",
    "\r\n",
    "이를 계산그래프로 그리면 다음과 같다.  \r\n",
    "\r\n",
    "<img src = \"./image/fig_5_19.png\" width = \"40%\">  \r\n",
    "\r\n",
    "'/'노드의 경우 미분하면 다음 식이 된다. (y = 1/x)  \r\n",
    "\r\n",
    "<img src = \"./image/e_5_10.png\">  \r\n",
    "\r\n",
    "위 식에 따르면 역전파 때는 상류에서 흘러온 값에 -y^2(순전파의 출력을 제곱한 후 마이너스를 붙인 값)을 곱해서 하류로 전달한다.  \r\n",
    "계산 그래프는 다음과 같다.  \r\n",
    "\r\n",
    "<img src =\"./image/fig_5_20.png\" width = \"40%\">  \r\n",
    "\r\n",
    "여기서 exp 함수의 미분값은 (exp(x))' = exp(x) 이므로 위와 같이 나타낼 수 있다.  \r\n",
    "\r\n",
    "값을 보면 x와 y의 값으로만 표현이 가능하다. 이를 간소화 하여 나타내면 다음과 같다. \r\n",
    "\r\n",
    "<img src = \"./image/fig_5_21.png\">  \r\n",
    "\r\n",
    "다음과 같은 방법으로 y로만 표현도 가능하다.  \r\n",
    "\r\n",
    "<img src = \"./image/e_5_12.png\" width=\"40%\">  \r\n",
    "\r\n",
    "파이썬으로 sigmoid 함수를 구현해보자  "
   ]
  }
 ],
 "metadata": {
  "interpreter": {
   "hash": "ee6caf572b02fbd90c9d9a82b73a7abd542127d236c55761b702f851ee4a295f"
  },
  "kernelspec": {
   "display_name": "Python 3.8.8 64-bit ('base': conda)",
   "name": "python3"
  },
  "language_info": {
   "codemirror_mode": {
    "name": "ipython",
    "version": 3
   },
   "file_extension": ".py",
   "mimetype": "text/x-python",
   "name": "python",
   "nbconvert_exporter": "python",
   "pygments_lexer": "ipython3",
   "version": "3.8.8"
  },
  "orig_nbformat": 4
 },
 "nbformat": 4,
 "nbformat_minor": 2
}